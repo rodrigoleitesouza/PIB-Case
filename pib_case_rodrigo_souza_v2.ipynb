{
  "nbformat": 4,
  "nbformat_minor": 0,
  "metadata": {
    "colab": {
      "provenance": []
    },
    "kernelspec": {
      "name": "python3",
      "display_name": "Python 3"
    },
    "language_info": {
      "name": "python"
    }
  },
  "cells": [
    {
      "cell_type": "markdown",
      "source": [
        "\n",
        "---\n",
        "\n",
        "CASE PROPOSTO PELA PIB COMO MÉTODO DE AVALIAÇÃO PARA O PROCESSO DE ESTÁGIO\n",
        "\n",
        "---\n"
      ],
      "metadata": {
        "id": "NgSIAlJPisny"
      }
    },
    {
      "cell_type": "markdown",
      "source": [
        "\n",
        "\n",
        "---\n",
        "\n",
        "\n",
        "CANDIDATO: RODRIGO SANTOS DE SOUZA\n",
        "\n",
        "\n",
        "---\n",
        "\n"
      ],
      "metadata": {
        "id": "cMXHmY17jDUk"
      }
    },
    {
      "cell_type": "markdown",
      "source": [
        "---\n",
        "\n",
        "\n",
        "SEGUE ABAIXO A ESTRUTURA DA SOLUÇÃO DESENVOLVIDA\n",
        "\n",
        "\n",
        "---\n",
        "\n"
      ],
      "metadata": {
        "id": "Pz4YYRVpjS4L"
      }
    },
    {
      "cell_type": "markdown",
      "source": [
        "*   Setup do PySpark e das variáveis ambiente;\n",
        "*   Carregamento dos CSVs;\n",
        "*   Cálculo do PIB por região;\n",
        "*   Cálculo da população por região;\n",
        "*   Razão entre PIB e população por região;\n",
        "*   Razão entre PIB e população do Brasil;\n",
        "*   União do PIB per capita das regiões com Brasil.\n",
        "\n",
        "---"
      ],
      "metadata": {
        "id": "INfQbVpWjWkB"
      }
    },
    {
      "cell_type": "markdown",
      "source": [
        "PASSO A PASSO ABAIXO:"
      ],
      "metadata": {
        "id": "a6bYMiVFmmm5"
      }
    },
    {
      "cell_type": "markdown",
      "source": [
        "\n",
        "---\n",
        "\n",
        "* SETUP DO PYSPARK E DAS VARIÁVEIS AMBIENTE\n",
        "\n",
        "---\n",
        "\n"
      ],
      "metadata": {
        "id": "z6nrljqimU6Y"
      }
    },
    {
      "cell_type": "code",
      "execution_count": null,
      "metadata": {
        "id": "vYTiFPCScECx"
      },
      "outputs": [],
      "source": [
        "# SETUP DO PYSPARK E DAS VARIÁVEIS AMBIENTE\n",
        "\n",
        "!pip install pyspark==3.3.1"
      ]
    },
    {
      "cell_type": "code",
      "source": [
        "# SETUP DO PYSPARK E DAS VARIÁVEIS AMBIENTE\n",
        "\n",
        "!apt-get install openjdk-8-jdk-headless -qq > /dev/null"
      ],
      "metadata": {
        "id": "7FGVFGMpeC41"
      },
      "execution_count": 3,
      "outputs": []
    },
    {
      "cell_type": "code",
      "source": [
        "# SETUP DO PYSPARK E DAS VARIÁVEIS AMBIENTE\n",
        "\n",
        "!wget -q https://dlcdn.apache.org/spark/spark-3.3.1/spark-3.3.1-bin-hadoop3.tgz"
      ],
      "metadata": {
        "id": "NLGXFdb_eFNz"
      },
      "execution_count": 4,
      "outputs": []
    },
    {
      "cell_type": "code",
      "source": [
        "# SETUP DO PYSPARK E DAS VARIÁVEIS AMBIENTE\n",
        "\n",
        "!tar xf spark-3.3.1-bin-hadoop3.tgz"
      ],
      "metadata": {
        "id": "QdsbIkyHeHFD"
      },
      "execution_count": 5,
      "outputs": []
    },
    {
      "cell_type": "code",
      "source": [
        "# SETUP DO PYSPARK E DAS VARIÁVEIS AMBIENTE\n",
        "\n",
        "!pip install -q findspark"
      ],
      "metadata": {
        "id": "odcCoFMTeKN6"
      },
      "execution_count": 6,
      "outputs": []
    },
    {
      "cell_type": "code",
      "source": [
        "# SETUP DO PYSPARK E DAS VARIÁVEIS AMBIENTE\n",
        "\n",
        "import os\n",
        "os.environ[\"JAVA_HOME\"] = \"/usr/lib/jvm/java-8-openjdk-amd64\"\n",
        "os.environ[\"SPARK_HOME\"] = \"/content/spark-3.3.1-bin-hadoop3\""
      ],
      "metadata": {
        "id": "Z3BNPhGBeMBC"
      },
      "execution_count": 7,
      "outputs": []
    },
    {
      "cell_type": "code",
      "source": [
        "# SETUP DO PYSPARK E DAS VARIÁVEIS AMBIENTE\n",
        "\n",
        "import findspark\n",
        "findspark.init()"
      ],
      "metadata": {
        "id": "9-_WUHaWePos"
      },
      "execution_count": 8,
      "outputs": []
    },
    {
      "cell_type": "code",
      "source": [
        "# SETUP DO PYSPARK E DAS VARIÁVEIS AMBIENTE\n",
        "\n",
        "from pyspark.sql import functions as F\n",
        "from pyspark.sql import SparkSession\n",
        "\n",
        "spark = SparkSession.builder \\\n",
        "    .master('local[*]') \\\n",
        "    .appName('pib-case-rodrigo-souza') \\\n",
        "    .config('spark.ui.port', '4050') \\\n",
        "    .getOrCreate()"
      ],
      "metadata": {
        "id": "shANdM8Oe_84"
      },
      "execution_count": 9,
      "outputs": []
    },
    {
      "cell_type": "markdown",
      "source": [
        "---\n",
        "\n",
        "CARREGAMENTO DOS CSV'S\n",
        "\n",
        "---\n"
      ],
      "metadata": {
        "id": "EwMEhF-Wnoqo"
      }
    },
    {
      "cell_type": "code",
      "source": [
        "from google.colab import drive\n",
        "drive.mount('/content/drive')\n",
        "\n",
        "df_state = spark.read.option('delimiter', ';').format('csv').load('/content/drive/MyDrive/Tabelas/De_para_UF-Tabela 1.csv', header='true')\n",
        "df_pib = spark.read.option('delimiter', ';').format('csv').load('/content/drive/MyDrive/Tabelas/PIB_municipio-Tabela 1.csv', header='true')\n",
        "df_population = spark.read.option('delimiter', ';').format('csv').load('/content/drive/MyDrive/Tabelas/Populacao_Estado-Tabela 1.csv', header='true')\n",
        "df_region = spark.read.option('delimiter', ';').format('csv').load('/content/drive/MyDrive/Tabelas/UF_Regiao-Tabela 1.csv', header='true')\n",
        "\n",
        "df_state = df_state.distinct()  # O Distrito Federal, por alguma razão desconhecida, estava duplicado. O método \".distinct()\" remove essa repetição."
      ],
      "metadata": {
        "id": "uJkIBWaXXEAR",
        "outputId": "733a7fbe-b78a-464f-8f86-8e4d4b7827b7",
        "colab": {
          "base_uri": "https://localhost:8080/"
        }
      },
      "execution_count": 10,
      "outputs": [
        {
          "output_type": "stream",
          "name": "stdout",
          "text": [
            "Mounted at /content/drive\n"
          ]
        }
      ]
    },
    {
      "cell_type": "markdown",
      "source": [
        "---\n",
        "\n",
        "CÁLCULO DO PIB POR REGIÃO\n",
        "\n",
        "---\n"
      ],
      "metadata": {
        "id": "SPCDOJI7xWE4"
      }
    },
    {
      "cell_type": "code",
      "source": [
        "# O método \".substring()\" retorna os dois primeiros caracteres da coluna \"Cod_Identificacao\" que serão utilizados posteriormente.\n",
        "df_pib = df_pib.withColumn('Cod_Identificacao', F.substring(F.col('Cod_Identificacao'), 0, 2)) \n",
        "\n",
        "# O valor do PIB foi convertido para inteiro através do método \".cast(\"int\")\".\n",
        "df_pib = df_pib.withColumn('PIB', F.col('PIB').cast('int')) \n",
        "\n",
        "# Junção do dataframe de pib com estado e região através das colunas \"Cod_Identificacao\" e \"Estado\", respectivamente.\n",
        "# pib -> estado (O método \".join()\" ocorreu através da coluna \"Cod_Identificacao\").\n",
        "# pib -> estado -> região (O método \".join()\" ocorreu através da coluna \"Estado\").\n",
        "# A coluna \"Granularidade\" foi renomeada para \"Estado\" a fim de fazer mais sentido semanticamente.\n",
        "\n",
        "df_pib_per_region = df_pib.join(df_state, how='inner', on='Cod_Identificacao').withColumnRenamed('Granularidade','Estado')\\\n",
        "                    .join(df_region, how='inner', on='Estado').groupBy('Regiao').agg(F.sum('PIB').alias('PIB'))\n",
        "\n",
        "df_pib_per_region.show() # O método \".show()\" é utilizado para imprimir o resultado em tela."
      ],
      "metadata": {
        "id": "U4cnmgO4fNUx",
        "colab": {
          "base_uri": "https://localhost:8080/"
        },
        "outputId": "16a05cf7-b1fa-4d1e-e25b-12f9ea87ffea"
      },
      "execution_count": 11,
      "outputs": [
        {
          "output_type": "stream",
          "name": "stdout",
          "text": [
            "+------+----------+\n",
            "|Regiao|       PIB|\n",
            "+------+----------+\n",
            "|    NE| 522769299|\n",
            "|     N| 207093641|\n",
            "|     S| 620180421|\n",
            "|    SE|2180987793|\n",
            "|    CO| 354815818|\n",
            "+------+----------+\n",
            "\n"
          ]
        }
      ]
    },
    {
      "cell_type": "markdown",
      "source": [
        "---\n",
        "\n",
        "CÁLCULO DA POPULAÇÃO POR REGIÃO\n",
        "\n",
        "---\n"
      ],
      "metadata": {
        "id": "C-MDUHHwxlqC"
      }
    },
    {
      "cell_type": "code",
      "source": [
        "# O método \".filter()\" foi utilizado objetivando filtrar apenas as linhas que possuem o conteúdo \"Total\" na coluna \"fx_idade\"\\ além de remover as linhas que fazem referência a \"Brasil\" na coluna \"Granularidade\".\n",
        "# A coluna \"Granularidade\" foi renomeada para \"Estado\" a fim de possibilitar para fazer o join com região\n",
        "\n",
        "df_pop_per_state = df_population.filter((F.col('fx_idade') == 'Total') & (F.col('Granularidade') != 'Brasil'))\\\n",
        "                    .withColumnRenamed('Granularidade', 'Estado').withColumn('Populacao', F.col('Populacao').cast('int'))\n",
        "\n",
        "# Junção utilizando o método \".join()\" das populações por região com as regiões.\n",
        "df_pop_per_region = df_pop_per_state.join(df_region, how='inner', on='Estado').groupBy('Regiao').agg(F.sum('Populacao').alias('Populacao'))\n",
        "\n",
        "df_pop_per_region.show() # O método \".show()\" é utilizado para imprimir o resultado em tela."
      ],
      "metadata": {
        "colab": {
          "base_uri": "https://localhost:8080/"
        },
        "id": "1KJMkH6qxyKo",
        "outputId": "b6048890-aa0a-4211-d914-dd791cce4256"
      },
      "execution_count": 12,
      "outputs": [
        {
          "output_type": "stream",
          "name": "stdout",
          "text": [
            "+------+---------+\n",
            "|Regiao|Populacao|\n",
            "+------+---------+\n",
            "|    NE| 53081950|\n",
            "|     N| 15864454|\n",
            "|     S| 27386891|\n",
            "|    SE| 80364410|\n",
            "|    CO| 14058094|\n",
            "+------+---------+\n",
            "\n"
          ]
        }
      ]
    },
    {
      "cell_type": "markdown",
      "source": [
        "---\n",
        "\n",
        "RAZÃO ENTRE PIB E POPULAÇÃO POR REGIÃO\n",
        "\n",
        "---"
      ],
      "metadata": {
        "id": "nNvmLhcL1iMZ"
      }
    },
    {
      "cell_type": "code",
      "source": [
        "# Junção utilizando o método \".join()\" das populações por região com os PIBs por região.\n",
        "df_regions = df_pop_per_region.join(df_pib_per_region, on='Regiao', how='inner').select('Regiao', F.col('PIB')/F.col('Populacao')).orderBy('Regiao')\n",
        "\n",
        "df_regions.show() # O método \".show()\" é utilizado para imprimir o resultado em tela."
      ],
      "metadata": {
        "colab": {
          "base_uri": "https://localhost:8080/"
        },
        "id": "V6J2P4j03Pws",
        "outputId": "d11f6a0f-b7b3-426b-e0d7-e030c9f226d6"
      },
      "execution_count": 13,
      "outputs": [
        {
          "output_type": "stream",
          "name": "stdout",
          "text": [
            "+------+------------------+\n",
            "|Regiao| (PIB / Populacao)|\n",
            "+------+------------------+\n",
            "|    CO|25.239254908951384|\n",
            "|     N|13.053940652480067|\n",
            "|    NE| 9.848343909747099|\n",
            "|     S|22.645156071202095|\n",
            "|    SE|   27.138727118136|\n",
            "+------+------------------+\n",
            "\n"
          ]
        }
      ]
    },
    {
      "cell_type": "markdown",
      "source": [
        "\n",
        "\n",
        "---\n",
        "\n",
        "RAZÃO ENTRE PIB E POPULAÇÃO DO BRASIL\n",
        "\n",
        "---\n",
        "\n"
      ],
      "metadata": {
        "id": "7GktIM574H2K"
      }
    },
    {
      "cell_type": "code",
      "source": [
        "# O método \".sum()\" realiza a soma de todos os PIBs.\n",
        "# O método \".select()\" retorna a soma de todos os PIBs.\n",
        "df_pib_total_brasil = df_pib.select(F.sum('PIB').alias('PIB'))\n",
        "\n",
        "# O método \".filter()\" foi utilizado objetivando filtrar apenas as linhas que possuem o conteúdo \"Total\" na coluna \"fx_idade\" e as linhas que fazem referência a \"Brasil\" na coluna \"Granularidade\".\n",
        "df_pop_brasil = df_population.filter((F.col('fx_idade') == 'Total') & (F.col('Granularidade') == 'Brasil')).withColumnRenamed('Granularidade', 'Regiao')\n",
        "\n",
        "# cross join é um produto cartesiano (todas as linhas com todas as colunas). Como só existe uma linha em cada dataframe, simplesmente as junta\n",
        "df_brasil = df_pop_brasil.crossJoin(df_pib_total_brasil).select(F.col('Regiao'), F.col('PIB')/F.col('Populacao'))\n",
        "\n",
        "df_brasil.show() # O método \".show()\" é utilizado para imprimir o resultado em tela."
      ],
      "metadata": {
        "colab": {
          "base_uri": "https://localhost:8080/"
        },
        "id": "Tgd7X1794HP0",
        "outputId": "5134eb51-aa4c-4b5b-91bd-6f327c6baef5"
      },
      "execution_count": 14,
      "outputs": [
        {
          "output_type": "stream",
          "name": "stdout",
          "text": [
            "+------+------------------+\n",
            "|Regiao| (PIB / Populacao)|\n",
            "+------+------------------+\n",
            "|Brasil|20.370793403769603|\n",
            "+------+------------------+\n",
            "\n"
          ]
        }
      ]
    },
    {
      "cell_type": "markdown",
      "source": [
        "\n",
        "\n",
        "---\n",
        "\n",
        "UNIÃO DE PIB PER CAPITA DAS REGIÕES COM BRASIL\n",
        "\n",
        "---\n",
        "\n"
      ],
      "metadata": {
        "id": "G0gPQhuT4kPV"
      }
    },
    {
      "cell_type": "code",
      "source": [
        "# O método \".unionAll()\" realiza a junção dos dois dataframes de interesse que são o \"df_regions\" com o \"df_brasil\".\n",
        "# Para o método acima funcionar sem problemas é necessário que as colunas de ambos os dataframes possuam os mesmos nomes.\n",
        "# O método \".withColumnRenamed()\" foi utilizado a fim de renomear a coluna \"round((PIB / Populacao)\" com um novo nome que é \"PIB_PER_CAPITA\"\n",
        "# O método \".withColumnRenamed()\" foi utilizado, novamente, a fim de renomear a coluna \"Regiao\" com um novo nome que é \"REGIÃO\"\n",
        "\n",
        "finalSolution = df_regions.unionAll(df_brasil).select(F.col('Regiao'), F.round(F.col('(PIB / Populacao)'), 2))\\\n",
        "     .withColumnRenamed('round((PIB / Populacao), 2)', 'PIB_PER_CAPITA').withColumnRenamed('Regiao', 'REGIÃO')\n",
        "\n",
        "finalSolution.show() # O método \".show()\" é utilizado para imprimir o resultado em tela."
      ],
      "metadata": {
        "colab": {
          "base_uri": "https://localhost:8080/"
        },
        "id": "o2dXRXSY41Q_",
        "outputId": "7f186257-047e-44bd-8bb2-c9bf064faaaf"
      },
      "execution_count": 15,
      "outputs": [
        {
          "output_type": "stream",
          "name": "stdout",
          "text": [
            "+------+--------------+\n",
            "|REGIÃO|PIB_PER_CAPITA|\n",
            "+------+--------------+\n",
            "|    CO|         25.24|\n",
            "|     N|         13.05|\n",
            "|    NE|          9.85|\n",
            "|     S|         22.65|\n",
            "|    SE|         27.14|\n",
            "|Brasil|         20.37|\n",
            "+------+--------------+\n",
            "\n"
          ]
        }
      ]
    }
  ]
}